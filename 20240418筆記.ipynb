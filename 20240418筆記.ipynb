{
 "cells": [
  {
   "cell_type": "markdown",
   "id": "3a2521ec-2453-44e0-a583-d84bbfa98e00",
   "metadata": {},
   "source": [
    "# 20240418筆記"
   ]
  },
  {
   "cell_type": "markdown",
   "id": "27168023-d336-4e7a-abac-6833cc29bb17",
   "metadata": {},
   "source": [
    "上一次上課：\n",
    "* 影像處理的基礎\n",
    "* Histogram\n",
    "* Image Convolution (Filtering)"
   ]
  },
  {
   "cell_type": "markdown",
   "id": "67ecee1f-66c8-42ce-8816-6857c357abb0",
   "metadata": {},
   "source": [
    "Slido: https://ppt.cc/fFjIQx"
   ]
  },
  {
   "cell_type": "markdown",
   "id": "cb9f1d87-a66c-4efd-9851-78f4cd7765fa",
   "metadata": {},
   "source": [
    "基礎影像處理套件：\n",
    "* Pillow\n",
    "* Scikit-Image\n",
    "* OpenCV"
   ]
  },
  {
   "cell_type": "markdown",
   "id": "a8358297-a110-4309-898f-08a5568a3549",
   "metadata": {},
   "source": [
    "影像雜訊\n",
    "* Pepper and Salt\n",
    "* Guassian Noise\n",
    "* White Noise"
   ]
  },
  {
   "cell_type": "markdown",
   "id": "bcd68a60-4dbb-44be-81d8-c6c9599241bc",
   "metadata": {},
   "source": [
    "## Pepper and Salt"
   ]
  },
  {
   "cell_type": "code",
   "execution_count": null,
   "id": "95a94463-90c3-4b18-93f7-4c7011ab1227",
   "metadata": {},
   "outputs": [],
   "source": [
    "import numpy as np"
   ]
  },
  {
   "cell_type": "code",
   "execution_count": null,
   "id": "ab96e11c-46c2-40ea-b699-04a81b8b2688",
   "metadata": {},
   "outputs": [],
   "source": [
    "import skimage as ski"
   ]
  },
  {
   "cell_type": "code",
   "execution_count": null,
   "id": "7120a0ea-ca95-4304-a96c-61e33c40946d",
   "metadata": {},
   "outputs": [],
   "source": [
    "lena = ski.io.imread('lena.png')"
   ]
  },
  {
   "cell_type": "code",
   "execution_count": null,
   "id": "c74d2075-ec4b-4cdf-91da-994fc014a8b3",
   "metadata": {},
   "outputs": [],
   "source": [
    "import plotly.express as px"
   ]
  },
  {
   "cell_type": "code",
   "execution_count": null,
   "id": "713dda20-16b0-4f58-afe5-691e24858ee0",
   "metadata": {},
   "outputs": [],
   "source": [
    "px.imshow(lena)"
   ]
  },
  {
   "cell_type": "code",
   "execution_count": null,
   "id": "4c704634-bf81-4dae-96c5-fde269f2559e",
   "metadata": {},
   "outputs": [],
   "source": [
    "lena.shape"
   ]
  },
  {
   "cell_type": "code",
   "execution_count": null,
   "id": "d79fc1fd-f918-4adb-884e-865cf8127e22",
   "metadata": {},
   "outputs": [],
   "source": [
    "gray = ski.color.rgb2gray(lena)"
   ]
  },
  {
   "cell_type": "code",
   "execution_count": null,
   "id": "7b358dc9-a49b-4f7e-b8d3-259aa9452856",
   "metadata": {},
   "outputs": [],
   "source": [
    "px.imshow(gray, color_continuous_scale=\"gray\")"
   ]
  },
  {
   "cell_type": "code",
   "execution_count": null,
   "id": "b39bd6ec-7140-4664-a489-b4f55ddf267e",
   "metadata": {},
   "outputs": [],
   "source": [
    "gray.shape"
   ]
  },
  {
   "cell_type": "code",
   "execution_count": null,
   "id": "24cc09fe-3ffd-45e2-99ce-04d64011d7ec",
   "metadata": {},
   "outputs": [],
   "source": [
    "np.random.randint(0, 440)"
   ]
  },
  {
   "cell_type": "code",
   "execution_count": null,
   "id": "c890cb55-1f90-4b6e-ada2-7b5aa4a31af9",
   "metadata": {},
   "outputs": [],
   "source": [
    "x = np.random.randint(0, 440, 100)"
   ]
  },
  {
   "cell_type": "code",
   "execution_count": null,
   "id": "1ede48fb-0f99-4e64-bb6a-da851a266127",
   "metadata": {},
   "outputs": [],
   "source": [
    "x"
   ]
  },
  {
   "cell_type": "code",
   "execution_count": null,
   "id": "7586cd89-2429-4c38-8843-d145e28fecb8",
   "metadata": {},
   "outputs": [],
   "source": [
    "y = np.random.randint(0, 440, 100)"
   ]
  },
  {
   "cell_type": "code",
   "execution_count": null,
   "id": "42293d52-2749-44b1-ba1d-1317492bc97a",
   "metadata": {},
   "outputs": [],
   "source": [
    "gray[x, y] = 0"
   ]
  },
  {
   "cell_type": "code",
   "execution_count": null,
   "id": "57cb1798-a2ff-4a4c-8070-7017ebf2d8b5",
   "metadata": {},
   "outputs": [],
   "source": [
    "px.imshow(gray, color_continuous_scale=\"gray\")"
   ]
  },
  {
   "cell_type": "code",
   "execution_count": null,
   "id": "59bae6f7-a0a6-46fc-8557-ffc2489048a8",
   "metadata": {},
   "outputs": [],
   "source": [
    "x1 = np.random.randint(0, 440, 100)\n",
    "y1 = np.random.randint(0, 440, 100)"
   ]
  },
  {
   "cell_type": "code",
   "execution_count": null,
   "id": "32675ba8-2ac5-4a36-8ff7-445cd93a343a",
   "metadata": {},
   "outputs": [],
   "source": [
    "gray[x1, y1] = 1"
   ]
  },
  {
   "cell_type": "code",
   "execution_count": null,
   "id": "5eba6e41-5c0d-4df5-b0ed-09d2847cc25e",
   "metadata": {},
   "outputs": [],
   "source": [
    "px.imshow(gray, color_continuous_scale=\"gray\")"
   ]
  },
  {
   "cell_type": "code",
   "execution_count": null,
   "id": "83178e8f-0406-495f-bb42-45db85dbcdbd",
   "metadata": {},
   "outputs": [],
   "source": [
    "gray.dtype"
   ]
  },
  {
   "cell_type": "markdown",
   "id": "0dcaa280-cf67-4428-b33b-70971eaff63c",
   "metadata": {},
   "source": [
    "## 自己做彩色轉單色"
   ]
  },
  {
   "cell_type": "markdown",
   "id": "e4b8d009-69e6-4efa-b55e-33deb95f9c4c",
   "metadata": {},
   "source": [
    "Gray = 0.299 ∙ Red + 0.587 ∙ Green + 0.114 ∙ Blue"
   ]
  },
  {
   "cell_type": "code",
   "execution_count": null,
   "id": "2df17b48-ed71-44a4-bb2c-11cfa559dbea",
   "metadata": {},
   "outputs": [],
   "source": [
    "lena.shape"
   ]
  },
  {
   "cell_type": "code",
   "execution_count": null,
   "id": "66dfc4be-78f0-47ac-b873-9cef17e46067",
   "metadata": {},
   "outputs": [],
   "source": [
    "glena = lena[:,:,0]*0.299+lena[:,:,1]*0.587+lena[:,:,2]*0.114"
   ]
  },
  {
   "cell_type": "code",
   "execution_count": null,
   "id": "72dc5ff4-a231-4719-a33f-616711d65284",
   "metadata": {},
   "outputs": [],
   "source": [
    "glena.dtype"
   ]
  },
  {
   "cell_type": "code",
   "execution_count": null,
   "id": "f7b94cad-01e4-4861-99d6-a6bb8a87e324",
   "metadata": {},
   "outputs": [],
   "source": [
    "glena = glena.astype('uint')"
   ]
  },
  {
   "cell_type": "code",
   "execution_count": null,
   "id": "444374cc-513b-4d65-836d-d3df7ff63289",
   "metadata": {},
   "outputs": [],
   "source": [
    "px.imshow(glena, color_continuous_scale=\"gray\")"
   ]
  },
  {
   "cell_type": "code",
   "execution_count": null,
   "id": "5c99eb71-5e2b-42b9-923f-962baabe8b1e",
   "metadata": {},
   "outputs": [],
   "source": [
    "xp = np.random.randint(0, 440, 100)\n",
    "yp = np.random.randint(0, 440, 100)\n",
    "xs = np.random.randint(0, 440, 100)\n",
    "ys = np.random.randint(0, 440, 100)"
   ]
  },
  {
   "cell_type": "code",
   "execution_count": null,
   "id": "2ec1f4dd-ca6d-4605-8da8-e00450481ca9",
   "metadata": {},
   "outputs": [],
   "source": [
    "glena[xp, yp] = 0\n",
    "glena[xs, ys] = 255"
   ]
  },
  {
   "cell_type": "code",
   "execution_count": null,
   "id": "cb8d496c-89d6-4ad4-bd24-e71f42c8ffd8",
   "metadata": {},
   "outputs": [],
   "source": [
    "px.imshow(glena, color_continuous_scale=\"gray\")"
   ]
  },
  {
   "cell_type": "code",
   "execution_count": null,
   "id": "a090f35a-7b5f-42e5-b41f-10680bb4d25a",
   "metadata": {},
   "outputs": [],
   "source": [
    "data = np.random.randint(0, 20, (3, 3))"
   ]
  },
  {
   "cell_type": "code",
   "execution_count": null,
   "id": "8dee328f-3ff6-4f78-a420-e48230d941e3",
   "metadata": {},
   "outputs": [],
   "source": [
    "data"
   ]
  },
  {
   "cell_type": "code",
   "execution_count": null,
   "id": "113528b4-271b-4403-baff-0e8a57810c49",
   "metadata": {},
   "outputs": [],
   "source": [
    "np.median(data)"
   ]
  },
  {
   "cell_type": "code",
   "execution_count": null,
   "id": "33d24fa0-fa7c-4ac2-aff2-841af5ba302b",
   "metadata": {},
   "outputs": [],
   "source": [
    "newlena = np.zeros_like(glena)\n",
    "\n",
    "for i in range(1, 439):\n",
    "    for j in range(1, 439):\n",
    "        newlena[i, j] = np.median(glena[i-1:i+2, j-1:j+2])"
   ]
  },
  {
   "cell_type": "code",
   "execution_count": null,
   "id": "2dd8b05e-613f-485c-bd05-ed1e5de94f31",
   "metadata": {},
   "outputs": [],
   "source": [
    "px.imshow(newlena, color_continuous_scale=\"gray\")"
   ]
  },
  {
   "cell_type": "markdown",
   "id": "1c962ad2-12b8-4056-81ce-bd4fb81973b6",
   "metadata": {},
   "source": [
    "## OpenCV使用簡介"
   ]
  },
  {
   "cell_type": "markdown",
   "id": "a7c7d7cd-ccd9-41e4-9c86-1851feb390e5",
   "metadata": {},
   "source": [
    "### 讀圖及秀圖"
   ]
  },
  {
   "cell_type": "code",
   "execution_count": null,
   "id": "89fc5e4e-7d57-42ff-b5db-aa4e6ea20dca",
   "metadata": {},
   "outputs": [],
   "source": [
    "import cv2\n",
    "import plotly.express as px\n",
    "import numpy as np"
   ]
  },
  {
   "cell_type": "code",
   "execution_count": null,
   "id": "6f3cb431-f4fe-41e4-9967-a14918fb7b20",
   "metadata": {},
   "outputs": [],
   "source": [
    "cvlena = cv2.imread('lena.png')"
   ]
  },
  {
   "cell_type": "code",
   "execution_count": null,
   "id": "1c6cbedf-ef91-4b9c-808a-d319d3f23d10",
   "metadata": {},
   "outputs": [],
   "source": [
    "type(cvlena)"
   ]
  },
  {
   "cell_type": "code",
   "execution_count": null,
   "id": "f71d93d5-deca-405a-b0ad-7b418cfc0475",
   "metadata": {},
   "outputs": [],
   "source": [
    "px.imshow(cvlena)"
   ]
  },
  {
   "cell_type": "code",
   "execution_count": null,
   "id": "23baaace-4d0e-4696-a280-1bdd9bc22a0f",
   "metadata": {},
   "outputs": [],
   "source": [
    "px.imshow(cvlena[:,:,::-1])"
   ]
  },
  {
   "cell_type": "code",
   "execution_count": null,
   "id": "ddb8e282-3b80-4566-9cbf-8d1aceda4cfe",
   "metadata": {},
   "outputs": [],
   "source": [
    "cv2.imshow(\"Test\", cvlena)\n",
    "cv2.waitKey(0)\n",
    "cv2.destroyAllWindows()"
   ]
  },
  {
   "cell_type": "code",
   "execution_count": null,
   "id": "a5f63e8e-82f1-4aad-b657-ccd69ee25899",
   "metadata": {},
   "outputs": [],
   "source": [
    "cv2.imshow(\"Test\", cvlena)\n",
    "cv2.waitKey(5000)\n",
    "cv2.destroyAllWindows()"
   ]
  },
  {
   "cell_type": "markdown",
   "id": "1946e91a-21cf-41b3-9e8a-684a5dc3ee63",
   "metadata": {},
   "source": [
    "### 彩色轉單色"
   ]
  },
  {
   "cell_type": "code",
   "execution_count": null,
   "id": "2ca4824e-8af6-4bfc-98d3-f04ba25b924a",
   "metadata": {},
   "outputs": [],
   "source": [
    "gcvlena = cv2.cvtColor(cvlena, cv2.COLOR_BGR2GRAY)"
   ]
  },
  {
   "cell_type": "code",
   "execution_count": null,
   "id": "88329630-bc97-4580-adcc-791cb60e4823",
   "metadata": {},
   "outputs": [],
   "source": [
    "px.imshow(gcvlena, color_continuous_scale='gray')"
   ]
  },
  {
   "cell_type": "code",
   "execution_count": null,
   "id": "701af18c-9750-4404-b6f4-15f61288728f",
   "metadata": {},
   "outputs": [],
   "source": [
    "xp = np.random.randint(0, 440, 200)\n",
    "yp = np.random.randint(0, 440, 200)\n",
    "xs = np.random.randint(0, 440, 200)\n",
    "ys = np.random.randint(0, 440, 200)"
   ]
  },
  {
   "cell_type": "code",
   "execution_count": null,
   "id": "282aeab0-d5a2-4a46-a3d3-44b210e8ad04",
   "metadata": {},
   "outputs": [],
   "source": [
    "gcvlena[xp, yp] = 0\n",
    "gcvlena[xs, ys] = 255"
   ]
  },
  {
   "cell_type": "code",
   "execution_count": null,
   "id": "3b783041-6856-45cf-9bc3-dfab60c99014",
   "metadata": {},
   "outputs": [],
   "source": [
    "px.imshow(gcvlena, color_continuous_scale='gray')"
   ]
  },
  {
   "cell_type": "code",
   "execution_count": null,
   "id": "192427c9-fed0-4c94-997f-79dc47803494",
   "metadata": {},
   "outputs": [],
   "source": [
    "mgcvlena = cv2.medianBlur(gcvlena, 3)"
   ]
  },
  {
   "cell_type": "code",
   "execution_count": null,
   "id": "8b41b0b8-498b-40fa-9f21-ba0385f83fd6",
   "metadata": {},
   "outputs": [],
   "source": [
    "px.imshow(mgcvlena, color_continuous_scale='gray')"
   ]
  },
  {
   "cell_type": "code",
   "execution_count": null,
   "id": "3c80fb45-9223-4ae7-93d4-d33ec6aa9968",
   "metadata": {},
   "outputs": [],
   "source": [
    "gcvlena01 = cv2.cvtColor(cvlena, cv2.COLOR_BGR2GRAY)\n",
    "xp = np.random.randint(0, 440, 20000)\n",
    "yp = np.random.randint(0, 440, 20000)\n",
    "xs = np.random.randint(0, 440, 20000)\n",
    "ys = np.random.randint(0, 440, 20000)\n",
    "gcvlena01[xp, yp] = 0\n",
    "gcvlena01[xs, ys] = 255"
   ]
  },
  {
   "cell_type": "code",
   "execution_count": null,
   "id": "270604ab-7535-462a-b8a3-4df0e954af63",
   "metadata": {},
   "outputs": [],
   "source": [
    "px.imshow(gcvlena01, color_continuous_scale='gray')"
   ]
  },
  {
   "cell_type": "code",
   "execution_count": null,
   "id": "1ec8ee30-872e-4fa1-8613-8fea9aa9dd37",
   "metadata": {},
   "outputs": [],
   "source": [
    "mgcvlena01 = cv2.medianBlur(gcvlena01, 5)"
   ]
  },
  {
   "cell_type": "code",
   "execution_count": null,
   "id": "37225ae4-f91d-4a83-bf06-23232dde40c9",
   "metadata": {},
   "outputs": [],
   "source": [
    "px.imshow(mgcvlena01, color_continuous_scale=\"gray\")"
   ]
  },
  {
   "cell_type": "markdown",
   "id": "4ae1f653-8830-451e-8e46-58c97ae79039",
   "metadata": {},
   "source": [
    "### 高斯雜訊 (Gaussian Noise)"
   ]
  },
  {
   "cell_type": "code",
   "execution_count": null,
   "id": "5536add9-59fb-4c44-9907-47351786273a",
   "metadata": {},
   "outputs": [],
   "source": [
    "np.random.randn(2, 4)"
   ]
  },
  {
   "cell_type": "code",
   "execution_count": null,
   "id": "684590d1-8ebe-4060-8836-5f605f5d9cbd",
   "metadata": {},
   "outputs": [],
   "source": [
    "gcvlena.shape"
   ]
  },
  {
   "cell_type": "code",
   "execution_count": null,
   "id": "1d5d987c-6fe5-4c66-8e6f-d35949e8f565",
   "metadata": {},
   "outputs": [],
   "source": [
    "noise = np.random.randn(*gcvlena.shape)"
   ]
  },
  {
   "cell_type": "code",
   "execution_count": null,
   "id": "7114c247-239d-4f8b-8aec-2f2215581dfd",
   "metadata": {},
   "outputs": [],
   "source": [
    "noise.shape"
   ]
  },
  {
   "cell_type": "code",
   "execution_count": null,
   "id": "9b51e967-55cc-4005-b5a8-467a970b3095",
   "metadata": {},
   "outputs": [],
   "source": [
    "np.mean(noise)"
   ]
  },
  {
   "cell_type": "code",
   "execution_count": null,
   "id": "0320b234-4c46-49e4-af59-507b46128d66",
   "metadata": {},
   "outputs": [],
   "source": [
    "np.var(noise)"
   ]
  },
  {
   "cell_type": "code",
   "execution_count": null,
   "id": "a1a9652b-1e3b-4231-a1b5-caa4cd496646",
   "metadata": {},
   "outputs": [],
   "source": [
    "px.imshow(noise, color_continuous_scale=\"gray\")"
   ]
  },
  {
   "cell_type": "code",
   "execution_count": null,
   "id": "273cb222-17f7-41d8-9db7-deb2594b7bf3",
   "metadata": {},
   "outputs": [],
   "source": [
    "gcvlena02 = cv2.cvtColor(cvlena, cv2.COLOR_BGR2GRAY)\n",
    "gcvlena03 = gcvlena02.copy().astype(int)"
   ]
  },
  {
   "cell_type": "code",
   "execution_count": null,
   "id": "a650e65c-fcda-4433-b68a-371bec457ec7",
   "metadata": {},
   "outputs": [],
   "source": [
    "gcvlena04 = gcvlena03 + noise*30"
   ]
  },
  {
   "cell_type": "code",
   "execution_count": null,
   "id": "bc6cf424-2460-4546-aca5-20c1b912f99e",
   "metadata": {},
   "outputs": [],
   "source": [
    "px.imshow(gcvlena03, color_continuous_scale=\"gray\")"
   ]
  },
  {
   "cell_type": "code",
   "execution_count": null,
   "id": "974c7f1a-e946-4d95-af8b-13f4a47df38f",
   "metadata": {},
   "outputs": [],
   "source": [
    "px.imshow(gcvlena04, color_continuous_scale=\"gray\")"
   ]
  },
  {
   "cell_type": "markdown",
   "id": "fffd86d8-2814-4031-9ed2-d9bb3b7f42ff",
   "metadata": {},
   "source": [
    "## 白雜訊 (White Noise)"
   ]
  },
  {
   "cell_type": "code",
   "execution_count": null,
   "id": "50f6176f-08b8-4fc4-83a6-5dbf700b9d3e",
   "metadata": {},
   "outputs": [],
   "source": [
    "np.random.uniform(-1, 1, (2, 4))"
   ]
  },
  {
   "cell_type": "code",
   "execution_count": null,
   "id": "dca6277a-d3fa-486b-af88-e2d8c9dcbbbd",
   "metadata": {},
   "outputs": [],
   "source": [
    "white = np.random.uniform(-1, 1, gcvlena.shape)"
   ]
  },
  {
   "cell_type": "code",
   "execution_count": null,
   "id": "3788d342-9098-4507-a06a-c05262f45556",
   "metadata": {},
   "outputs": [],
   "source": [
    "px.imshow(white, color_continuous_scale=\"gray\")"
   ]
  },
  {
   "cell_type": "code",
   "execution_count": null,
   "id": "00568c2b-f672-4b6f-b59b-c4d1f2fee0c2",
   "metadata": {},
   "outputs": [],
   "source": [
    "gcvlena05 = gcvlena02.copy().astype(int)\n",
    "gcvlena06 = gcvlena05 + white*30"
   ]
  },
  {
   "cell_type": "code",
   "execution_count": null,
   "id": "3eaca1bb-be71-4f27-96c8-932d7f8a2802",
   "metadata": {},
   "outputs": [],
   "source": [
    "px.imshow(gcvlena06, color_continuous_scale=\"gray\")"
   ]
  },
  {
   "cell_type": "code",
   "execution_count": null,
   "id": "8dc99a6c-6f18-4fa2-8d3b-a4c17a477684",
   "metadata": {},
   "outputs": [],
   "source": [
    "import matplotlib.pyplot as plt"
   ]
  },
  {
   "cell_type": "code",
   "execution_count": null,
   "id": "f4a87500-ba12-401b-9cf9-678ed6d4dd91",
   "metadata": {},
   "outputs": [],
   "source": [
    "plt.subplot(1, 2, 1)\n",
    "plt.imshow(gcvlena04, cmap=\"gray\")\n",
    "plt.subplot(1, 2, 2)\n",
    "plt.imshow(gcvlena06, cmap=\"gray\")"
   ]
  },
  {
   "cell_type": "code",
   "execution_count": null,
   "id": "a84261ca-b338-471a-946e-cd967efa940e",
   "metadata": {
    "scrolled": true
   },
   "outputs": [],
   "source": [
    "cv2.blur?"
   ]
  },
  {
   "cell_type": "code",
   "execution_count": null,
   "id": "f84e3e91-1387-470c-b183-cc7980c69a2b",
   "metadata": {},
   "outputs": [],
   "source": [
    "fgcvlena04 = cv2.blur(gcvlena04, (3, 3))"
   ]
  },
  {
   "cell_type": "code",
   "execution_count": null,
   "id": "dfb292cd-c177-4a5f-96f2-73d64c8d84e1",
   "metadata": {},
   "outputs": [],
   "source": [
    "plt.subplot(1, 2, 1)\n",
    "plt.imshow(gcvlena04, cmap=\"gray\")\n",
    "plt.subplot(1, 2, 2)\n",
    "plt.imshow(fgcvlena04, cmap=\"gray\")"
   ]
  },
  {
   "cell_type": "code",
   "execution_count": null,
   "id": "b9d6c434-8dc7-4253-bd3f-623014bbda17",
   "metadata": {},
   "outputs": [],
   "source": [
    "cv2.imshow(\"HW#1\", gcvlena04.astype(\"uint8\"))\n",
    "cv2.imshow(\"HW#2\", gcvlena06.astype(\"uint8\"))\n",
    "cv2.waitKey(0)\n",
    "cv2.destroyAllWindows()"
   ]
  },
  {
   "cell_type": "markdown",
   "id": "6f1a6723-ea10-4870-b811-1100add33716",
   "metadata": {},
   "source": [
    "## matplotlib subplot 簡單複習"
   ]
  },
  {
   "cell_type": "markdown",
   "id": "b5f22e9c-f4d9-43ba-9b5e-377a316848c4",
   "metadata": {},
   "source": [
    "* plt.subplot()\n",
    "* plt.subplots()\n",
    "* plt.subplot2grid()"
   ]
  },
  {
   "cell_type": "code",
   "execution_count": null,
   "id": "28761416-d71e-48f8-8c63-7c67bf410d92",
   "metadata": {},
   "outputs": [],
   "source": [
    "import matplotlib.pyplot as plt"
   ]
  },
  {
   "cell_type": "code",
   "execution_count": null,
   "id": "928a565c-03be-4e67-a04e-725fd8e7fe8c",
   "metadata": {},
   "outputs": [],
   "source": [
    "x = np.array([1, 2, 3, 4])/4"
   ]
  },
  {
   "cell_type": "code",
   "execution_count": null,
   "id": "41998316-a3a8-4246-815b-9651d0c1f37b",
   "metadata": {},
   "outputs": [],
   "source": [
    "x1"
   ]
  },
  {
   "cell_type": "code",
   "execution_count": null,
   "id": "7faa68f3-3121-48c6-b44c-55bdd15eda86",
   "metadata": {},
   "outputs": [],
   "source": [
    "x2"
   ]
  },
  {
   "cell_type": "code",
   "execution_count": null,
   "id": "baa32873-d725-4ae1-8018-798b7f9a6452",
   "metadata": {},
   "outputs": [],
   "source": [
    "x1 = x**1\n",
    "x2 = x**2\n",
    "x3 = x**3\n",
    "x4 = x**4"
   ]
  },
  {
   "cell_type": "code",
   "execution_count": null,
   "id": "04fca1f8-c788-4e25-9841-56aa07b07e19",
   "metadata": {},
   "outputs": [],
   "source": [
    "plt.subplot(2, 2, 1)\n",
    "plt.plot(x1)\n",
    "plt.subplot(2, 2, 2)\n",
    "plt.plot(x2)\n",
    "plt.subplot(2, 2, 3)\n",
    "plt.plot(x3)\n",
    "plt.subplot(2, 2, 4)\n",
    "plt.plot(x4)"
   ]
  },
  {
   "cell_type": "code",
   "execution_count": null,
   "id": "258d3cd0-3d7f-4f72-888c-a29d2f82c489",
   "metadata": {},
   "outputs": [],
   "source": [
    "fig, axes = plt.subplots(2, 2)\n",
    "axes[0, 0].plot(x1)\n",
    "axes[0, 1].plot(x2)\n",
    "axes[1, 0].plot(x3)\n",
    "axes[1, 1].plot(x4)"
   ]
  },
  {
   "cell_type": "code",
   "execution_count": null,
   "id": "fc2f25af-cdaa-4264-8077-e8843b44e178",
   "metadata": {
    "scrolled": true
   },
   "outputs": [],
   "source": [
    "fig, axes = plt.subplots(1, 2)\n",
    "axes[0].imshow(gcvlena04, cmap=\"gray\")\n",
    "axes[1].imshow(gcvlena06, cmap=\"gray\")"
   ]
  },
  {
   "cell_type": "code",
   "execution_count": null,
   "id": "038d850c-5ae7-4c18-8b56-93530cbef896",
   "metadata": {},
   "outputs": [],
   "source": [
    "axes"
   ]
  },
  {
   "cell_type": "code",
   "execution_count": null,
   "id": "f85431f6-0f90-4618-be82-e1897de559f3",
   "metadata": {},
   "outputs": [],
   "source": [
    "plt.subplot2grid((2, 2), (0, 0))\n",
    "plt.plot(x1)\n",
    "plt.subplot2grid((2, 2), (0, 1))\n",
    "plt.plot(x2)\n",
    "plt.subplot2grid((2, 2), (1, 0))\n",
    "plt.plot(x3)\n",
    "plt.subplot2grid((2, 2), (1, 1))\n",
    "plt.plot(x4)"
   ]
  },
  {
   "cell_type": "code",
   "execution_count": null,
   "id": "d37d42fc-3653-4e16-8860-f3b591aedaed",
   "metadata": {},
   "outputs": [],
   "source": [
    "plt.subplot2grid((3, 3), (0, 0))\n",
    "plt.plot(x1)\n",
    "plt.subplot2grid((3, 3), (0, 1))\n",
    "plt.plot(x2)\n",
    "plt.subplot2grid((3, 3), (0, 2))\n",
    "plt.plot(x3)\n",
    "plt.subplot2grid((3, 3), (1, 0), colspan=3, rowspan=2)\n",
    "plt.plot(x4)"
   ]
  },
  {
   "cell_type": "markdown",
   "id": "44dfaf28-93c2-4497-b055-c2f047597a31",
   "metadata": {},
   "source": [
    "## 綜合練習 01\n",
    "\n",
    "請畫出一個2x2的圖，左上角是Lena的彩色原圖，右上角是紅色的channel的圖，左下角是綠色的channel的圖，右下角是藍色的channel的圖。"
   ]
  },
  {
   "cell_type": "code",
   "execution_count": null,
   "id": "6d51deac-bd4c-462c-997a-dbf1d35dc7cb",
   "metadata": {},
   "outputs": [],
   "source": [
    "import skimage"
   ]
  },
  {
   "cell_type": "code",
   "execution_count": null,
   "id": "8fa40fbe-98cd-42da-9270-dfecad8d3729",
   "metadata": {},
   "outputs": [],
   "source": [
    "lena = skimage.io.imread('lena.png')"
   ]
  },
  {
   "cell_type": "code",
   "execution_count": null,
   "id": "7027a25c-708b-4c52-9cb4-ed65ce9c6feb",
   "metadata": {},
   "outputs": [],
   "source": [
    "plt.imshow(lena)"
   ]
  },
  {
   "cell_type": "code",
   "execution_count": null,
   "id": "57006952-5d76-4caf-a95d-f8ba643be38d",
   "metadata": {},
   "outputs": [],
   "source": [
    "red = lena.copy()\n",
    "green = lena.copy()\n",
    "blue = lena.copy()"
   ]
  },
  {
   "cell_type": "code",
   "execution_count": null,
   "id": "adf215f6-3e91-4ff2-9983-e53458b88536",
   "metadata": {},
   "outputs": [],
   "source": [
    "red[:,:,1:] = 0\n",
    "green[:,:,[0, 2]] = 0\n",
    "blue[:,:,:2] = 0"
   ]
  },
  {
   "cell_type": "code",
   "execution_count": null,
   "id": "bac4da2c-0e92-42ad-bad9-a96f8e3266e5",
   "metadata": {},
   "outputs": [],
   "source": [
    "fig, axes = plt.subplots(2, 2)\n",
    "axes[0, 0].imshow(lena)\n",
    "axes[0, 1].imshow(red)\n",
    "axes[1, 0].imshow(green)\n",
    "axes[1, 1].imshow(blue)"
   ]
  },
  {
   "cell_type": "code",
   "execution_count": null,
   "id": "5b844616-5e0b-4e40-afe5-40641f1dab2b",
   "metadata": {},
   "outputs": [],
   "source": [
    "plt.imshow(255 - lena)"
   ]
  },
  {
   "cell_type": "markdown",
   "id": "524301c6-0af1-4b83-a014-507818515dc1",
   "metadata": {},
   "source": [
    "## 綜合練習 02"
   ]
  },
  {
   "cell_type": "markdown",
   "id": "063483fe-8400-4450-b029-46f095507f0c",
   "metadata": {},
   "source": [
    "使用 Line Notify 傳送即時訊息通知給自己。\n",
    "\n",
    "https://notify-bot.line.me/en/"
   ]
  },
  {
   "cell_type": "code",
   "execution_count": 115,
   "id": "2a365e77-98ab-47b0-984b-cee51b89959e",
   "metadata": {},
   "outputs": [
    {
     "name": "stderr",
     "output_type": "stream",
     "text": [
      "  % Total    % Received % Xferd  Average Speed   Time    Time     Time  Current\n",
      "                                 Dload  Upload   Total   Spent    Left  Speed\n",
      "\n",
      "  0     0    0     0    0     0      0      0 --:--:-- --:--:-- --:--:--     0\n",
      "100   818  100   818    0     0   1437      0 --:--:-- --:--:-- --:--:--  1440\n",
      "100   818  100   818    0     0   1436      0 --:--:-- --:--:-- --:--:--  1440\n"
     ]
    }
   ],
   "source": [
    "# 在 windows 上面的 jupyter notebook/lab 用這個\n",
    "!curl -o linenotify.py https://raw.githubusercontent.com/vcdemy/linenotify/main/py/linenotify.py"
   ]
  },
  {
   "cell_type": "code",
   "execution_count": 116,
   "id": "ab014493-aef1-49fa-90e6-8f88a705c9b3",
   "metadata": {},
   "outputs": [],
   "source": [
    "from linenotify import Notify"
   ]
  },
  {
   "cell_type": "code",
   "execution_count": 117,
   "id": "75233cb0-c8ca-4454-93e6-4441d39b043c",
   "metadata": {},
   "outputs": [],
   "source": [
    "token = \"\""
   ]
  },
  {
   "cell_type": "code",
   "execution_count": 118,
   "id": "49b9610f-25dd-4418-8698-82d8f4917c5c",
   "metadata": {},
   "outputs": [
    {
     "data": {
      "text/plain": [
       "<Response [200]>"
      ]
     },
     "execution_count": 118,
     "metadata": {},
     "output_type": "execute_result"
    }
   ],
   "source": [
    "Notify(token, \"Hello World!\")"
   ]
  },
  {
   "cell_type": "code",
   "execution_count": 119,
   "id": "1aa30448-a2e5-4949-8960-32171c615208",
   "metadata": {},
   "outputs": [
    {
     "data": {
      "text/plain": [
       "<Response [200]>"
      ]
     },
     "execution_count": 119,
     "metadata": {},
     "output_type": "execute_result"
    }
   ],
   "source": [
    "Notify(token, \"Hello World!\", img=\"lena.png\")"
   ]
  },
  {
   "cell_type": "code",
   "execution_count": 120,
   "id": "86cbf660-3f6e-40ab-a644-4f40d6174a0a",
   "metadata": {},
   "outputs": [],
   "source": [
    "r = Notify(token, \"Hello World!\", img=\"lena.png\")"
   ]
  },
  {
   "cell_type": "code",
   "execution_count": 121,
   "id": "a73338e7-4f44-409b-822e-348b5be4abc3",
   "metadata": {},
   "outputs": [
    {
     "data": {
      "text/plain": [
       "{'Server': 'nginx', 'Date': 'Thu, 18 Apr 2024 06:32:37 GMT', 'Content-Type': 'application/json', 'Transfer-Encoding': 'chunked', 'Keep-Alive': 'timeout=9', 'Vary': 'Accept-Encoding', 'X-RateLimit-Limit': '1000', 'X-RateLimit-ImageLimit': '50', 'X-RateLimit-Remaining': '997', 'X-RateLimit-ImageRemaining': '48', 'X-RateLimit-Reset': '1713425298', 'X-Robots-Tag': 'noindex, nofollow, nosnippet, noarchive', 'Content-Encoding': 'gzip'}"
      ]
     },
     "execution_count": 121,
     "metadata": {},
     "output_type": "execute_result"
    }
   ],
   "source": [
    "r.headers"
   ]
  },
  {
   "cell_type": "markdown",
   "id": "8cc24844-6585-4577-a064-22e3781bd18c",
   "metadata": {},
   "source": [
    "## 影像侵蝕(erode)及膨脹(dilate)"
   ]
  },
  {
   "cell_type": "code",
   "execution_count": 122,
   "id": "da28bc38-e770-4913-ac10-82b7f9dd4d3c",
   "metadata": {},
   "outputs": [],
   "source": [
    "ocr = skimage.io.imread('ocr.jpg')"
   ]
  },
  {
   "cell_type": "code",
   "execution_count": 123,
   "id": "73c8b875-d908-4156-b7b9-857d0d96b33b",
   "metadata": {},
   "outputs": [
    {
     "data": {
      "text/plain": [
       "<matplotlib.image.AxesImage at 0x130aba6e9f0>"
      ]
     },
     "execution_count": 123,
     "metadata": {},
     "output_type": "execute_result"
    },
    {
     "data": {
      "image/png": "[encoded data removed]",
      "text/plain": [
       "<Figure size 640x480 with 1 Axes>"
      ]
     },
     "metadata": {},
     "output_type": "display_data"
    }
   ],
   "source": [
    "plt.imshow(ocr)"
   ]
  },
  {
   "cell_type": "code",
   "execution_count": null,
   "id": "e592ea52-8423-475a-9c55-b6c42cf68b97",
   "metadata": {},
   "outputs": [],
   "source": []
  }
 ],
 "metadata": {
  "kernelspec": {
   "display_name": "Python 3 (ipykernel)",
   "language": "python",
   "name": "python3"
  },
  "language_info": {
   "codemirror_mode": {
    "name": "ipython",
    "version": 3
   },
   "file_extension": ".py",
   "mimetype": "text/x-python",
   "name": "python",
   "nbconvert_exporter": "python",
   "pygments_lexer": "ipython3",
   "version": "3.12.3"
  }
 },
 "nbformat": 4,
 "nbformat_minor": 5
}
